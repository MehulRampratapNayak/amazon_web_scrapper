{
 "cells": [
  {
   "cell_type": "markdown",
   "id": "d9bddf71",
   "metadata": {},
   "source": [
    "# Project Name:-Amazon Web Scrapper"
   ]
  },
  {
   "cell_type": "markdown",
   "id": "6ad761c6",
   "metadata": {},
   "source": [
    "# **Purpose:-Scrap Description,Price(Rs),Rating, Review Count,Url of the Product for Product Searched from, the Amazon Website.**"
   ]
  },
  {
   "cell_type": "markdown",
   "id": "d2ad6ca5",
   "metadata": {},
   "source": [
    "**Importing Necessary Libraries**"
   ]
  },
  {
   "cell_type": "code",
   "execution_count": 1,
   "id": "59168f48",
   "metadata": {},
   "outputs": [],
   "source": [
    "import csv\n",
    "import pandas as pd\n",
    "pd.options.display.max_colwidth = 4000\n",
    "from bs4 import BeautifulSoup\n",
    "#!pip install selenium\n",
    "from selenium import webdriver\n",
    "import warnings\n",
    "warnings.filterwarnings(\"ignore\", category=FutureWarning)"
   ]
  },
  {
   "cell_type": "markdown",
   "id": "a471024a",
   "metadata": {},
   "source": [
    "**Creating a Chrome  Driver for Scrapping**"
   ]
  },
  {
   "cell_type": "code",
   "execution_count": 2,
   "id": "97f5507b",
   "metadata": {},
   "outputs": [
    {
     "name": "stderr",
     "output_type": "stream",
     "text": [
      "C:\\Users\\mehul\\AppData\\Local\\Temp/ipykernel_23216/3550596582.py:2: DeprecationWarning: executable_path has been deprecated, please pass in a Service object\n",
      "  driver=webdriver.Chrome(\"C:\\\\Mehul\\Data Scientist\\\\Amazon Scrapper\\\\amazon_scraper\\\\chrome_driver\\\\chromedriver_win32\\\\chromedriver.exe\")\n"
     ]
    }
   ],
   "source": [
    "#if someone is using this code for reference,then change this chrome driver with your own path,otherwise code will not be execuatble.\n",
    "driver=webdriver.Chrome(\"C:\\\\Mehul\\Data Scientist\\\\Amazon Scrapper\\\\amazon_scraper\\\\chrome_driver\\\\chromedriver_win32\\\\chromedriver.exe\")"
   ]
  },
  {
   "cell_type": "markdown",
   "id": "3aa0734c",
   "metadata": {},
   "source": [
    "**Passing the amazon.in url**"
   ]
  },
  {
   "cell_type": "code",
   "execution_count": 3,
   "id": "0c28b14d",
   "metadata": {},
   "outputs": [],
   "source": [
    "url=\"https://www.amazon.in/\""
   ]
  },
  {
   "cell_type": "markdown",
   "id": "fc2bf20d",
   "metadata": {},
   "source": [
    "**Passing the url in the chrome driver to fetch the amazon website**"
   ]
  },
  {
   "cell_type": "code",
   "execution_count": 4,
   "id": "a29ee20c",
   "metadata": {},
   "outputs": [],
   "source": [
    "driver.get(url)"
   ]
  },
  {
   "cell_type": "code",
   "execution_count": 5,
   "id": "d7ce126e",
   "metadata": {},
   "outputs": [],
   "source": [
    "#template=\"https://www.amazon.in/s?k={}&crid=3JKZD4EXHPZC&sprefix=%2Caps%2C432&ref=nb_sb_ss_recent_1_0_recent\""
   ]
  },
  {
   "cell_type": "code",
   "execution_count": 6,
   "id": "d056ddb9",
   "metadata": {},
   "outputs": [],
   "source": [
    "#search_term='mi phone'"
   ]
  },
  {
   "cell_type": "code",
   "execution_count": 7,
   "id": "9ce2d269",
   "metadata": {},
   "outputs": [],
   "source": [
    "#search_term=search_term.replace(' ','+')"
   ]
  },
  {
   "cell_type": "code",
   "execution_count": 8,
   "id": "0fb24146",
   "metadata": {},
   "outputs": [],
   "source": [
    "#template.format(search_term)"
   ]
  },
  {
   "cell_type": "markdown",
   "id": "b07fd4a4",
   "metadata": {},
   "source": [
    "**Creating a template url with blank search term & passing the search term in the url for scrapping the Data**"
   ]
  },
  {
   "cell_type": "code",
   "execution_count": 9,
   "id": "6601cc70",
   "metadata": {},
   "outputs": [],
   "source": [
    "def get_url(search_term):\n",
    "    \"\"\" Generate a URL for the search term\"\"\"\n",
    "    template=\"https://www.amazon.in/s?k={}&crid=3JKZD4EXHPZC&sprefix=%2Caps%2C432&ref=nb_sb_ss_recent_1_0_recent\"\n",
    "    search_term=search_term.replace(' ','+')\n",
    "    return template.format(search_term)"
   ]
  },
  {
   "cell_type": "markdown",
   "id": "64e11168",
   "metadata": {},
   "source": [
    "**Passing the search term in the above function**"
   ]
  },
  {
   "cell_type": "code",
   "execution_count": 10,
   "id": "18ea1dfb",
   "metadata": {},
   "outputs": [
    {
     "name": "stdout",
     "output_type": "stream",
     "text": [
      "https://www.amazon.in/s?k=laptops&crid=3JKZD4EXHPZC&sprefix=%2Caps%2C432&ref=nb_sb_ss_recent_1_0_recent\n"
     ]
    }
   ],
   "source": [
    "url=get_url('laptops')\n",
    "print(url)"
   ]
  },
  {
   "cell_type": "markdown",
   "id": "3cf6c78b",
   "metadata": {},
   "source": [
    "**Passing the whole url generated above into the driver**"
   ]
  },
  {
   "cell_type": "code",
   "execution_count": 11,
   "id": "49df849f",
   "metadata": {},
   "outputs": [],
   "source": [
    "driver.get(url)"
   ]
  },
  {
   "cell_type": "markdown",
   "id": "f753a059",
   "metadata": {},
   "source": [
    "**Extracting the Collection by using Beautiful Soup**"
   ]
  },
  {
   "cell_type": "code",
   "execution_count": 12,
   "id": "5f3874ed",
   "metadata": {},
   "outputs": [],
   "source": [
    "soup=BeautifulSoup(driver.page_source,'html.parser')"
   ]
  },
  {
   "cell_type": "markdown",
   "id": "3c727e14",
   "metadata": {},
   "source": [
    "**Extracting the Information from the search page after entering the our search criteria**"
   ]
  },
  {
   "cell_type": "code",
   "execution_count": 13,
   "id": "5ac1c425",
   "metadata": {},
   "outputs": [],
   "source": [
    "results=soup.find_all('div',{'data-component-type':'s-search-result'})"
   ]
  },
  {
   "cell_type": "markdown",
   "id": "99b1deab",
   "metadata": {},
   "source": [
    "**Checking the Total No of Products on the Search Page**"
   ]
  },
  {
   "cell_type": "code",
   "execution_count": 14,
   "id": "902ec23a",
   "metadata": {},
   "outputs": [
    {
     "data": {
      "text/plain": [
       "22"
      ]
     },
     "execution_count": 14,
     "metadata": {},
     "output_type": "execute_result"
    }
   ],
   "source": [
    "len(results)"
   ]
  },
  {
   "cell_type": "markdown",
   "id": "667533eb",
   "metadata": {},
   "source": [
    "# **Scrapping the Description,Price,Rating,Review_Count,Url of the Product for the first record on the search page**"
   ]
  },
  {
   "cell_type": "code",
   "execution_count": 15,
   "id": "df0a8ce1",
   "metadata": {},
   "outputs": [],
   "source": [
    "item=results[0]"
   ]
  },
  {
   "cell_type": "markdown",
   "id": "db207cad",
   "metadata": {},
   "source": [
    "**Scrapping the Description**"
   ]
  },
  {
   "cell_type": "code",
   "execution_count": 16,
   "id": "b31c422b",
   "metadata": {},
   "outputs": [
    {
     "data": {
      "text/plain": [
       "'HP 15s, 11th Gen Intel Core i3 8GB RAM/1TB HDD+256 GB SSD 15.6-inches/39.6 cm FHD Laptop/Windows 11/Intel UHD Graphics/Dual Speakers/Alexa/MSO/Fast Charge/1.75 Kg, 15s-du3614TU'"
      ]
     },
     "execution_count": 16,
     "metadata": {},
     "output_type": "execute_result"
    }
   ],
   "source": [
    "item.h2.a.text.strip()\n"
   ]
  },
  {
   "cell_type": "markdown",
   "id": "0405e311",
   "metadata": {},
   "source": [
    "**Scrapping the Price of the Product**"
   ]
  },
  {
   "cell_type": "code",
   "execution_count": 17,
   "id": "cd0d80b9",
   "metadata": {},
   "outputs": [],
   "source": [
    "price_parent=item.find('span','a-price')"
   ]
  },
  {
   "cell_type": "code",
   "execution_count": 18,
   "id": "5bd0105e",
   "metadata": {},
   "outputs": [
    {
     "data": {
      "text/plain": [
       "'42,390'"
      ]
     },
     "execution_count": 18,
     "metadata": {},
     "output_type": "execute_result"
    }
   ],
   "source": [
    "price=price_parent.find('span','a-price-whole').text.strip()\n",
    "price"
   ]
  },
  {
   "cell_type": "markdown",
   "id": "ebbc09b4",
   "metadata": {},
   "source": [
    "**Scrapping the Rating of the Product**"
   ]
  },
  {
   "cell_type": "code",
   "execution_count": 19,
   "id": "3bb4e91f",
   "metadata": {},
   "outputs": [],
   "source": [
    "rating=item.i.text.strip()"
   ]
  },
  {
   "cell_type": "markdown",
   "id": "b37410b2",
   "metadata": {},
   "source": [
    "**Scarpping the Review Counts**"
   ]
  },
  {
   "cell_type": "code",
   "execution_count": 20,
   "id": "031ac41f",
   "metadata": {},
   "outputs": [
    {
     "data": {
      "text/plain": [
       "'8'"
      ]
     },
     "execution_count": 20,
     "metadata": {},
     "output_type": "execute_result"
    }
   ],
   "source": [
    "item.find('span',{'class':'a-size-base'}).text"
   ]
  },
  {
   "cell_type": "markdown",
   "id": "4f2ef04a",
   "metadata": {},
   "source": [
    "**Scrapping the Url of the Product**"
   ]
  },
  {
   "cell_type": "code",
   "execution_count": 21,
   "id": "7a2a6a40",
   "metadata": {},
   "outputs": [],
   "source": [
    "atag=item.h2.a"
   ]
  },
  {
   "cell_type": "code",
   "execution_count": 22,
   "id": "719cbb2a",
   "metadata": {},
   "outputs": [],
   "source": [
    "url=\"https://www.amazon.in\"+atag.get('href')"
   ]
  },
  {
   "cell_type": "code",
   "execution_count": null,
   "id": "111ffb4f",
   "metadata": {},
   "outputs": [],
   "source": []
  },
  {
   "cell_type": "markdown",
   "id": "ac6883ce",
   "metadata": {},
   "source": [
    "**Creating a function for moving our scrapper to next pages for the product searched**"
   ]
  },
  {
   "cell_type": "code",
   "execution_count": 23,
   "id": "96dba935",
   "metadata": {},
   "outputs": [],
   "source": [
    "def get_url(search_term):\n",
    "    \"\"\" Generate a URL for the search term\"\"\"\n",
    "    template=\"https://www.amazon.in/s?k={}&crid=3JKZD4EXHPZC&sprefix=%2Caps%2C432&ref=nb_sb_ss_recent_1_0_recent\"\n",
    "    search_term=search_term.replace(' ','+')\n",
    "    \n",
    "    #add term query to url\n",
    "    url=template.format(search_term)\n",
    "    \n",
    "    #add page query place holder\n",
    "    url += '&page{}'\n",
    "    \n",
    "    return url"
   ]
  },
  {
   "cell_type": "markdown",
   "id": "640fc36e",
   "metadata": {},
   "source": [
    "# **Putting all the above codes together and a creating a final function for scrapping Description,Price,Rating,Review_Count,Url of the Product for all the records and all pages for the product searched**"
   ]
  },
  {
   "cell_type": "code",
   "execution_count": 24,
   "id": "5b6c3ced",
   "metadata": {},
   "outputs": [],
   "source": [
    "def get_url(search_term):\n",
    "    \"\"\" Generate a URL for the search term\"\"\"\n",
    "   # template=\"https://www.amazon.ae/s?k=salama+care&crid=2WHGND4NAFUT3&sprefix=salama+care%2Caps%2C176&ref=nb_sb_noss_1\n",
    "    template=\"https://www.amazon.in/s?k={}&crid=3JKZD4EXHPZC&sprefix=%2Caps%2C432&ref=nb_sb_ss_recent_1_0_recent\"\n",
    "    search_term=search_term.replace(' ','+')\n",
    "    \n",
    "    #add term query to url\n",
    "    url=template.format(search_term)\n",
    "    \n",
    "    #add page query place holder\n",
    "    url += '&page{}'\n",
    "    \n",
    "    return url"
   ]
  },
  {
   "cell_type": "markdown",
   "id": "88f5e928",
   "metadata": {},
   "source": [
    "**We will save our scrapped data into the csv fie having the columns as Description,Price(Rs),Rating,Review Count,Url of the Product**"
   ]
  },
  {
   "cell_type": "code",
   "execution_count": 25,
   "id": "d481eb32",
   "metadata": {},
   "outputs": [],
   "source": [
    "def extract_record(item):\n",
    "    #description&url\n",
    "    atag=item.h2.a\n",
    "    description=atag.text.strip()\n",
    "    url=\"https://www.amazon.in\"+atag.get('href')\n",
    "    \n",
    "    try:\n",
    "        \n",
    "        #price\n",
    "        price_parent=item.find('span','a-price')\n",
    "        price=price_parent.find('span','a-price-whole').text.strip()\n",
    "    except AttributeError:\n",
    "        return\n",
    "    try:    \n",
    "        #rank and rating\n",
    "        rating=item.i.text\n",
    "        review_count=item.find('span',{'class':'a-size-base'}).text\n",
    "    except AttributeError:\n",
    "        rating=''\n",
    "        review_count=''\n",
    "    \n",
    "    result=(description,price,rating,review_count,url)\n",
    "    \n",
    "    return result\n",
    "\n",
    "\n",
    "\n",
    "\n",
    "def search_query(search_term):\n",
    "    \"\"\"Run main program routine\"\"\"\n",
    "    #startup the webdriver\n",
    "    #if someone is using this code for reference,then change this chrome driver with your own path,otherwise code will not be execuatble.\n",
    "    driver=webdriver.Chrome(\"C:\\\\Mehul\\Data Scientist\\\\Amazon Scrapper\\\\amazon_scraper\\\\chrome_driver\\\\chromedriver_win32\\\\chromedriver.exe\")\n",
    "    \n",
    "    records=[]\n",
    "    url=get_url(search_term)\n",
    "    \n",
    "    for page in range(1,21):\n",
    "        driver.get(url.format(page))\n",
    "        soup=BeautifulSoup(driver.page_source,'html.parser')\n",
    "        results=soup.find_all('div',{'data-component-type':'s-search-result'})\n",
    "        \n",
    "        for item in results:\n",
    "            record=extract_record(item)\n",
    "            if record: \n",
    "                records.append(extract_record(item))\n",
    "                \n",
    "    driver.close()\n",
    "    \n",
    "    filename = search_term + \".csv\"\n",
    "    #save the data to csv file\n",
    "    with open(filename,\"w\",newline='',encoding='utf-8') as f:\n",
    "        writer=csv.writer(f)\n",
    "        writer.writerow(['Description','Price(Rs)','Rating','Review Count','Url of the Product'])\n",
    "        writer.writerows(records)\n",
    "        \n",
    "        \n",
    "            \n",
    "            \n",
    "        "
   ]
  },
  {
   "cell_type": "markdown",
   "id": "3d2f4e2b",
   "metadata": {},
   "source": [
    "**By using search query function now will be able to scrap the Description,Price(Rs),Rating,Review Count,Url of the Product for the search results**"
   ]
  },
  {
   "cell_type": "markdown",
   "id": "5a6f7199",
   "metadata": {},
   "source": [
    "**Now we search for Laptops**"
   ]
  },
  {
   "cell_type": "code",
   "execution_count": 26,
   "id": "07c72ce1",
   "metadata": {},
   "outputs": [
    {
     "name": "stderr",
     "output_type": "stream",
     "text": [
      "C:\\Users\\mehul\\AppData\\Local\\Temp/ipykernel_23216/1439708076.py:33: DeprecationWarning: executable_path has been deprecated, please pass in a Service object\n",
      "  driver=webdriver.Chrome(\"C:\\\\Mehul\\Data Scientist\\\\Amazon Scrapper\\\\amazon_scraper\\\\chrome_driver\\\\chromedriver_win32\\\\chromedriver.exe\")\n"
     ]
    }
   ],
   "source": [
    "search_query('laptops')"
   ]
  },
  {
   "cell_type": "markdown",
   "id": "5cdc1f17",
   "metadata": {},
   "source": [
    "**Our scrapped Data will be saved in the csv file in the format given below:-**"
   ]
  },
  {
   "cell_type": "code",
   "execution_count": 27,
   "id": "ce7f4006",
   "metadata": {},
   "outputs": [
    {
     "data": {
      "text/html": [
       "<div>\n",
       "<style scoped>\n",
       "    .dataframe tbody tr th:only-of-type {\n",
       "        vertical-align: middle;\n",
       "    }\n",
       "\n",
       "    .dataframe tbody tr th {\n",
       "        vertical-align: top;\n",
       "    }\n",
       "\n",
       "    .dataframe thead th {\n",
       "        text-align: right;\n",
       "    }\n",
       "</style>\n",
       "<table border=\"1\" class=\"dataframe\">\n",
       "  <thead>\n",
       "    <tr style=\"text-align: right;\">\n",
       "      <th></th>\n",
       "      <th>Description</th>\n",
       "      <th>Price(Rs)</th>\n",
       "      <th>Rating</th>\n",
       "      <th>Review Count</th>\n",
       "      <th>Url of the Product</th>\n",
       "    </tr>\n",
       "  </thead>\n",
       "  <tbody>\n",
       "    <tr>\n",
       "      <th>0</th>\n",
       "      <td>HP 15s, 11th Gen Intel Core i3 8GB RAM/1TB HDD+256 GB SSD 15.6-inches/39.6 cm FHD Laptop/Windows 11/Intel UHD Graphics/Dual Speakers/Alexa/MSO/Fast Charge/1.75 Kg, 15s-du3614TU</td>\n",
       "      <td>42,390</td>\n",
       "      <td>3.8 out of 5 stars</td>\n",
       "      <td>8</td>\n",
       "      <td>https://www.amazon.in/sspa/click?ie=UTF8&amp;spc=MTo2NTUyOTczNTY4OTQyNDU5OjE2NjUyMzIxNzA6c3BfYXRmOjIwMDgyMjk2OTA3Mzk4OjowOjo&amp;sp_csd=d2lkZ2V0TmFtZT1zcF9hdGY&amp;url=%2FHP-15-6-inches-Graphics-Speakers-15s-du3614TU%2Fdp%2FB0B6F6PM6C%2Fref%3Dsr_1_1_sspa%3Fcrid%3D3JKZD4EXHPZC%26keywords%3Dlaptops%26qid%3D1665232170%26qu%3DeyJxc2MiOiI5LjMzIiwicXNhIjoiOS41NCIsInFzcCI6IjUuODMifQ%253D%253D%26sprefix%3D%252Caps%252C432%26sr%3D8-1-spons%26psc%3D1</td>\n",
       "    </tr>\n",
       "    <tr>\n",
       "      <th>1</th>\n",
       "      <td>Honor MagicBook 15, AMD Ryzen 5 5500U 15.6-inch (39.62 cm) FHD IPS Anti-Glare Thin and Light Laptop (8GB/256GB PCIe SSD/Windows 11/ Metal Body/Fingerprint Login/1.54Kg), Gray, BohrM-WDQ9CHNE</td>\n",
       "      <td>36,990</td>\n",
       "      <td>4.2 out of 5 stars</td>\n",
       "      <td>13</td>\n",
       "      <td>https://www.amazon.in/sspa/click?ie=UTF8&amp;spc=MTo2NTUyOTczNTY4OTQyNDU5OjE2NjUyMzIxNzA6c3BfYXRmOjIwMDc5NTQzNTAwNDk4OjowOjo&amp;sp_csd=d2lkZ2V0TmFtZT1zcF9hdGY&amp;url=%2FHonor-MagicBook-Anti-Glare-Fingerprint-BohrM-WDQ9CHNE%2Fdp%2FB0BC9S5DLW%2Fref%3Dsr_1_2_sspa%3Fcrid%3D3JKZD4EXHPZC%26keywords%3Dlaptops%26qid%3D1665232170%26qu%3DeyJxc2MiOiI5LjMzIiwicXNhIjoiOS41NCIsInFzcCI6IjUuODMifQ%253D%253D%26sprefix%3D%252Caps%252C432%26sr%3D8-2-spons%26psc%3D1</td>\n",
       "    </tr>\n",
       "    <tr>\n",
       "      <th>2</th>\n",
       "      <td>Lenovo IdeaPad Slim 1 AMD Ryzen 5 3500U 15.6\" (39.62cm) FHD Thin &amp; Light Laptop (8GB/512GB SSD/Windows 11/Office 2021/3months Game Pass/Cloud Grey/1.6Kg), 82R1004AIN</td>\n",
       "      <td>35,990</td>\n",
       "      <td>3.1 out of 5 stars</td>\n",
       "      <td>15</td>\n",
       "      <td>https://www.amazon.in/Lenovo-IdeaPad-39-62cm-Windows-82R1004AIN/dp/B0B4JRBGQ8/ref=sr_1_3?crid=3JKZD4EXHPZC&amp;keywords=laptops&amp;qid=1665232170&amp;qu=eyJxc2MiOiI5LjMzIiwicXNhIjoiOS41NCIsInFzcCI6IjUuODMifQ%3D%3D&amp;sprefix=%2Caps%2C432&amp;sr=8-3</td>\n",
       "    </tr>\n",
       "    <tr>\n",
       "      <th>3</th>\n",
       "      <td>HP Omen 12th Gen Intel Core i7-12700H 16.1 inch(40.9cm)FHD Gaming Laptop(16GB RAM/1TB SSD/GeForce RTX 3070Ti 8GB Graphics/144Hz/7ms Response Time/Win 11/MSO 2021/Backlit/B&amp;O/Alexa/Xbox Pass)16-k0370TX</td>\n",
       "      <td>2,05,900</td>\n",
       "      <td>NaN</td>\n",
       "      <td>NaN</td>\n",
       "      <td>https://www.amazon.in/HP-i7-12700H-Graphics-Response-16-k0370TX/dp/B0BBMQTCGW/ref=sr_1_omk_4?crid=3JKZD4EXHPZC&amp;keywords=laptops&amp;qid=1665232170&amp;qu=eyJxc2MiOiI5LjMzIiwicXNhIjoiOS41NCIsInFzcCI6IjUuODMifQ%3D%3D&amp;sprefix=%2Caps%2C432&amp;sr=8-4</td>\n",
       "    </tr>\n",
       "    <tr>\n",
       "      <th>4</th>\n",
       "      <td>HP NB 255 G8 Laptop 15.6 inch (39.6 cm) AMD Ryzen 3-3250U/8GB DDR4 Ram/1TB HDD/HD/Windows 11/AMD Radeon Vega 8 Graphics/Dark Ash Silver/1.74Kg) 64Q84PA</td>\n",
       "      <td>30,100</td>\n",
       "      <td>3.2 out of 5 stars</td>\n",
       "      <td>105</td>\n",
       "      <td>https://www.amazon.in/HP-3-3250U-Graphics-64Q84PA-ACJ/dp/B09RMQXSZT/ref=sr_1_5?crid=3JKZD4EXHPZC&amp;keywords=laptops&amp;qid=1665232170&amp;qu=eyJxc2MiOiI5LjMzIiwicXNhIjoiOS41NCIsInFzcCI6IjUuODMifQ%3D%3D&amp;sprefix=%2Caps%2C432&amp;sr=8-5</td>\n",
       "    </tr>\n",
       "    <tr>\n",
       "      <th>...</th>\n",
       "      <td>...</td>\n",
       "      <td>...</td>\n",
       "      <td>...</td>\n",
       "      <td>...</td>\n",
       "      <td>...</td>\n",
       "    </tr>\n",
       "    <tr>\n",
       "      <th>435</th>\n",
       "      <td>HP 14s, 11th Gen Intel Core i3-1115G4, 8GB RAM/256GB SSD 14-inch(35.6 cm) Micro-Edge, Anti-Glare, FHD Laptop/Alexa Built-in/Win 11/Intel UHD Graphics/Dual Speakers/ MSO 2021/1.41 Kg, 14s-dy2507TU</td>\n",
       "      <td>36,990</td>\n",
       "      <td>4.2 out of 5 stars</td>\n",
       "      <td>993</td>\n",
       "      <td>https://www.amazon.in/HP-i3-1115G4-Micro-Edge-Anti-Glare-14s-dy2507TU/dp/B0B63Y75P9/ref=sr_1_18?crid=3JKZD4EXHPZC&amp;keywords=laptops&amp;qid=1665232211&amp;qu=eyJxc2MiOiI5LjMzIiwicXNhIjoiOS41NCIsInFzcCI6IjUuODMifQ%3D%3D&amp;sprefix=%2Caps%2C432&amp;sr=8-18</td>\n",
       "    </tr>\n",
       "    <tr>\n",
       "      <th>436</th>\n",
       "      <td>Acer One 14 Business Laptop AMD Ryzen 3 3250U Processor (8GB RAM/256GB SSD/AMD Radeon Graphics/Windows 11 Home) Z2-493 with 35.56 cm (14.0\") HD Display (Rose Gold)</td>\n",
       "      <td>29,990</td>\n",
       "      <td>3.8 out of 5 stars</td>\n",
       "      <td>31</td>\n",
       "      <td>https://www.amazon.in/Acer-Business-Processor-Graphics-Z2-493/dp/B0B42QJMJP/ref=sr_1_19?crid=3JKZD4EXHPZC&amp;keywords=laptops&amp;qid=1665232211&amp;qu=eyJxc2MiOiI5LjMzIiwicXNhIjoiOS41NCIsInFzcCI6IjUuODMifQ%3D%3D&amp;sprefix=%2Caps%2C432&amp;sr=8-19</td>\n",
       "    </tr>\n",
       "    <tr>\n",
       "      <th>437</th>\n",
       "      <td>ASUS Vivobook 14, 14.0-inch (35.56 cms) HD, Intel Core i3-1005G1 10th Gen, Thin and Light Laptop (8GB/512GB SSD/Integrated Graphics/Windows 11/Office 2021/Silver/1.60 kg), X415JA-BV322WS</td>\n",
       "      <td>29,990</td>\n",
       "      <td>NaN</td>\n",
       "      <td>NaN</td>\n",
       "      <td>https://www.amazon.in/ASUS-14-0-inch-i3-1005G1-Integrated-X415JA-BV322WS/dp/B0BDRJGRXR/ref=sr_1_20?crid=3JKZD4EXHPZC&amp;keywords=laptops&amp;qid=1665232211&amp;qu=eyJxc2MiOiI5LjMzIiwicXNhIjoiOS41NCIsInFzcCI6IjUuODMifQ%3D%3D&amp;sprefix=%2Caps%2C432&amp;sr=8-20</td>\n",
       "    </tr>\n",
       "    <tr>\n",
       "      <th>438</th>\n",
       "      <td>Lenovo IdeaPad Slim 3 Intel Core i3 11th Gen 14\" (35.56cm) FHD IPS Thin &amp; Light Laptop (8GB/512GB SSD/Windows 11/Office 2021/Backlit/FPR/2Yr Warranty/3months Game Pass/Arctic Grey/1.41Kg), 82H701DMIN</td>\n",
       "      <td>37,990</td>\n",
       "      <td>4.2 out of 5 stars</td>\n",
       "      <td>253</td>\n",
       "      <td>https://www.amazon.in/sspa/click?ie=UTF8&amp;spc=MTo4NjY0Mzk4OTE1MDM0OTY0OjE2NjUyMzIyMTE6c3BfYnRmOjIwMDYyNTM0NDU5Mjk4OjowOjo&amp;sp_csd=d2lkZ2V0TmFtZT1zcF9idGY&amp;url=%2FLenovo-IdeaPad-35-56cm-Warranty-82H701DMIN%2Fdp%2FB09Y5VD8N7%2Fref%3Dsr_1_21_sspa%3Fcrid%3D3JKZD4EXHPZC%26keywords%3Dlaptops%26qid%3D1665232211%26qu%3DeyJxc2MiOiI5LjMzIiwicXNhIjoiOS41NCIsInFzcCI6IjUuODMifQ%253D%253D%26sprefix%3D%252Caps%252C432%26sr%3D8-21-spons%26psc%3D1</td>\n",
       "    </tr>\n",
       "    <tr>\n",
       "      <th>439</th>\n",
       "      <td>Dell Vostro 3420 Laptop, Intel i3-1115G4, 8GB DDR4 &amp; 256GB SSD, Win 11 + MSO'21, 14.0\", 35.56Cms FHD WVA AG 250 nits, Carbon Black (D552299WIN9BE, 1.48Kgs) Windows 11</td>\n",
       "      <td>36,990</td>\n",
       "      <td>2.6 out of 5 stars</td>\n",
       "      <td>3</td>\n",
       "      <td>https://www.amazon.in/sspa/click?ie=UTF8&amp;spc=MTo4NjY0Mzk4OTE1MDM0OTY0OjE2NjUyMzIyMTE6c3BfYnRmOjIwMDc4Nzk4MzA0Mjk4OjowOjo&amp;sp_csd=d2lkZ2V0TmFtZT1zcF9idGY&amp;url=%2FDell-i3-1115G4-35-56Cms-D552299WIN9BE-1-48Kgs%2Fdp%2FB0B469F1PN%2Fref%3Dsr_1_22_sspa%3Fcrid%3D3JKZD4EXHPZC%26keywords%3Dlaptops%26qid%3D1665232211%26qu%3DeyJxc2MiOiI5LjMzIiwicXNhIjoiOS41NCIsInFzcCI6IjUuODMifQ%253D%253D%26sprefix%3D%252Caps%252C432%26sr%3D8-22-spons%26psc%3D1</td>\n",
       "    </tr>\n",
       "  </tbody>\n",
       "</table>\n",
       "<p>440 rows × 5 columns</p>\n",
       "</div>"
      ],
      "text/plain": [
       "                                                                                                                                                                                                  Description  \\\n",
       "0                            HP 15s, 11th Gen Intel Core i3 8GB RAM/1TB HDD+256 GB SSD 15.6-inches/39.6 cm FHD Laptop/Windows 11/Intel UHD Graphics/Dual Speakers/Alexa/MSO/Fast Charge/1.75 Kg, 15s-du3614TU   \n",
       "1              Honor MagicBook 15, AMD Ryzen 5 5500U 15.6-inch (39.62 cm) FHD IPS Anti-Glare Thin and Light Laptop (8GB/256GB PCIe SSD/Windows 11/ Metal Body/Fingerprint Login/1.54Kg), Gray, BohrM-WDQ9CHNE   \n",
       "2                                       Lenovo IdeaPad Slim 1 AMD Ryzen 5 3500U 15.6\" (39.62cm) FHD Thin & Light Laptop (8GB/512GB SSD/Windows 11/Office 2021/3months Game Pass/Cloud Grey/1.6Kg), 82R1004AIN   \n",
       "3    HP Omen 12th Gen Intel Core i7-12700H 16.1 inch(40.9cm)FHD Gaming Laptop(16GB RAM/1TB SSD/GeForce RTX 3070Ti 8GB Graphics/144Hz/7ms Response Time/Win 11/MSO 2021/Backlit/B&O/Alexa/Xbox Pass)16-k0370TX   \n",
       "4                                                     HP NB 255 G8 Laptop 15.6 inch (39.6 cm) AMD Ryzen 3-3250U/8GB DDR4 Ram/1TB HDD/HD/Windows 11/AMD Radeon Vega 8 Graphics/Dark Ash Silver/1.74Kg) 64Q84PA   \n",
       "..                                                                                                                                                                                                        ...   \n",
       "435       HP 14s, 11th Gen Intel Core i3-1115G4, 8GB RAM/256GB SSD 14-inch(35.6 cm) Micro-Edge, Anti-Glare, FHD Laptop/Alexa Built-in/Win 11/Intel UHD Graphics/Dual Speakers/ MSO 2021/1.41 Kg, 14s-dy2507TU   \n",
       "436                                       Acer One 14 Business Laptop AMD Ryzen 3 3250U Processor (8GB RAM/256GB SSD/AMD Radeon Graphics/Windows 11 Home) Z2-493 with 35.56 cm (14.0\") HD Display (Rose Gold)   \n",
       "437                ASUS Vivobook 14, 14.0-inch (35.56 cms) HD, Intel Core i3-1005G1 10th Gen, Thin and Light Laptop (8GB/512GB SSD/Integrated Graphics/Windows 11/Office 2021/Silver/1.60 kg), X415JA-BV322WS   \n",
       "438   Lenovo IdeaPad Slim 3 Intel Core i3 11th Gen 14\" (35.56cm) FHD IPS Thin & Light Laptop (8GB/512GB SSD/Windows 11/Office 2021/Backlit/FPR/2Yr Warranty/3months Game Pass/Arctic Grey/1.41Kg), 82H701DMIN   \n",
       "439                                    Dell Vostro 3420 Laptop, Intel i3-1115G4, 8GB DDR4 & 256GB SSD, Win 11 + MSO'21, 14.0\", 35.56Cms FHD WVA AG 250 nits, Carbon Black (D552299WIN9BE, 1.48Kgs) Windows 11   \n",
       "\n",
       "    Price(Rs)              Rating Review Count  \\\n",
       "0      42,390  3.8 out of 5 stars            8   \n",
       "1      36,990  4.2 out of 5 stars           13   \n",
       "2      35,990  3.1 out of 5 stars           15   \n",
       "3    2,05,900                 NaN          NaN   \n",
       "4      30,100  3.2 out of 5 stars          105   \n",
       "..        ...                 ...          ...   \n",
       "435    36,990  4.2 out of 5 stars          993   \n",
       "436    29,990  3.8 out of 5 stars           31   \n",
       "437    29,990                 NaN          NaN   \n",
       "438    37,990  4.2 out of 5 stars          253   \n",
       "439    36,990  2.6 out of 5 stars            3   \n",
       "\n",
       "                                                                                                                                                                                                                                                                                                                                                                                                                                           Url of the Product  \n",
       "0            https://www.amazon.in/sspa/click?ie=UTF8&spc=MTo2NTUyOTczNTY4OTQyNDU5OjE2NjUyMzIxNzA6c3BfYXRmOjIwMDgyMjk2OTA3Mzk4OjowOjo&sp_csd=d2lkZ2V0TmFtZT1zcF9hdGY&url=%2FHP-15-6-inches-Graphics-Speakers-15s-du3614TU%2Fdp%2FB0B6F6PM6C%2Fref%3Dsr_1_1_sspa%3Fcrid%3D3JKZD4EXHPZC%26keywords%3Dlaptops%26qid%3D1665232170%26qu%3DeyJxc2MiOiI5LjMzIiwicXNhIjoiOS41NCIsInFzcCI6IjUuODMifQ%253D%253D%26sprefix%3D%252Caps%252C432%26sr%3D8-1-spons%26psc%3D1  \n",
       "1    https://www.amazon.in/sspa/click?ie=UTF8&spc=MTo2NTUyOTczNTY4OTQyNDU5OjE2NjUyMzIxNzA6c3BfYXRmOjIwMDc5NTQzNTAwNDk4OjowOjo&sp_csd=d2lkZ2V0TmFtZT1zcF9hdGY&url=%2FHonor-MagicBook-Anti-Glare-Fingerprint-BohrM-WDQ9CHNE%2Fdp%2FB0BC9S5DLW%2Fref%3Dsr_1_2_sspa%3Fcrid%3D3JKZD4EXHPZC%26keywords%3Dlaptops%26qid%3D1665232170%26qu%3DeyJxc2MiOiI5LjMzIiwicXNhIjoiOS41NCIsInFzcCI6IjUuODMifQ%253D%253D%26sprefix%3D%252Caps%252C432%26sr%3D8-2-spons%26psc%3D1  \n",
       "2                                                                                                                                                                                                                      https://www.amazon.in/Lenovo-IdeaPad-39-62cm-Windows-82R1004AIN/dp/B0B4JRBGQ8/ref=sr_1_3?crid=3JKZD4EXHPZC&keywords=laptops&qid=1665232170&qu=eyJxc2MiOiI5LjMzIiwicXNhIjoiOS41NCIsInFzcCI6IjUuODMifQ%3D%3D&sprefix=%2Caps%2C432&sr=8-3  \n",
       "3                                                                                                                                                                                                                  https://www.amazon.in/HP-i7-12700H-Graphics-Response-16-k0370TX/dp/B0BBMQTCGW/ref=sr_1_omk_4?crid=3JKZD4EXHPZC&keywords=laptops&qid=1665232170&qu=eyJxc2MiOiI5LjMzIiwicXNhIjoiOS41NCIsInFzcCI6IjUuODMifQ%3D%3D&sprefix=%2Caps%2C432&sr=8-4  \n",
       "4                                                                                                                                                                                                                                https://www.amazon.in/HP-3-3250U-Graphics-64Q84PA-ACJ/dp/B09RMQXSZT/ref=sr_1_5?crid=3JKZD4EXHPZC&keywords=laptops&qid=1665232170&qu=eyJxc2MiOiI5LjMzIiwicXNhIjoiOS41NCIsInFzcCI6IjUuODMifQ%3D%3D&sprefix=%2Caps%2C432&sr=8-5  \n",
       "..                                                                                                                                                                                                                                                                                                                                                                                                                                                        ...  \n",
       "435                                                                                                                                                                                                            https://www.amazon.in/HP-i3-1115G4-Micro-Edge-Anti-Glare-14s-dy2507TU/dp/B0B63Y75P9/ref=sr_1_18?crid=3JKZD4EXHPZC&keywords=laptops&qid=1665232211&qu=eyJxc2MiOiI5LjMzIiwicXNhIjoiOS41NCIsInFzcCI6IjUuODMifQ%3D%3D&sprefix=%2Caps%2C432&sr=8-18  \n",
       "436                                                                                                                                                                                                                    https://www.amazon.in/Acer-Business-Processor-Graphics-Z2-493/dp/B0B42QJMJP/ref=sr_1_19?crid=3JKZD4EXHPZC&keywords=laptops&qid=1665232211&qu=eyJxc2MiOiI5LjMzIiwicXNhIjoiOS41NCIsInFzcCI6IjUuODMifQ%3D%3D&sprefix=%2Caps%2C432&sr=8-19  \n",
       "437                                                                                                                                                                                                         https://www.amazon.in/ASUS-14-0-inch-i3-1005G1-Integrated-X415JA-BV322WS/dp/B0BDRJGRXR/ref=sr_1_20?crid=3JKZD4EXHPZC&keywords=laptops&qid=1665232211&qu=eyJxc2MiOiI5LjMzIiwicXNhIjoiOS41NCIsInFzcCI6IjUuODMifQ%3D%3D&sprefix=%2Caps%2C432&sr=8-20  \n",
       "438           https://www.amazon.in/sspa/click?ie=UTF8&spc=MTo4NjY0Mzk4OTE1MDM0OTY0OjE2NjUyMzIyMTE6c3BfYnRmOjIwMDYyNTM0NDU5Mjk4OjowOjo&sp_csd=d2lkZ2V0TmFtZT1zcF9idGY&url=%2FLenovo-IdeaPad-35-56cm-Warranty-82H701DMIN%2Fdp%2FB09Y5VD8N7%2Fref%3Dsr_1_21_sspa%3Fcrid%3D3JKZD4EXHPZC%26keywords%3Dlaptops%26qid%3D1665232211%26qu%3DeyJxc2MiOiI5LjMzIiwicXNhIjoiOS41NCIsInFzcCI6IjUuODMifQ%253D%253D%26sprefix%3D%252Caps%252C432%26sr%3D8-21-spons%26psc%3D1  \n",
       "439        https://www.amazon.in/sspa/click?ie=UTF8&spc=MTo4NjY0Mzk4OTE1MDM0OTY0OjE2NjUyMzIyMTE6c3BfYnRmOjIwMDc4Nzk4MzA0Mjk4OjowOjo&sp_csd=d2lkZ2V0TmFtZT1zcF9idGY&url=%2FDell-i3-1115G4-35-56Cms-D552299WIN9BE-1-48Kgs%2Fdp%2FB0B469F1PN%2Fref%3Dsr_1_22_sspa%3Fcrid%3D3JKZD4EXHPZC%26keywords%3Dlaptops%26qid%3D1665232211%26qu%3DeyJxc2MiOiI5LjMzIiwicXNhIjoiOS41NCIsInFzcCI6IjUuODMifQ%253D%253D%26sprefix%3D%252Caps%252C432%26sr%3D8-22-spons%26psc%3D1  \n",
       "\n",
       "[440 rows x 5 columns]"
      ]
     },
     "execution_count": 27,
     "metadata": {},
     "output_type": "execute_result"
    }
   ],
   "source": [
    "#importinng the csv file in which our scrapped data is saved\n",
    "pd.read_csv('laptops.csv')"
   ]
  },
  {
   "cell_type": "code",
   "execution_count": null,
   "id": "596d562e",
   "metadata": {},
   "outputs": [],
   "source": []
  }
 ],
 "metadata": {
  "kernelspec": {
   "display_name": "Python 3 (ipykernel)",
   "language": "python",
   "name": "python3"
  },
  "language_info": {
   "codemirror_mode": {
    "name": "ipython",
    "version": 3
   },
   "file_extension": ".py",
   "mimetype": "text/x-python",
   "name": "python",
   "nbconvert_exporter": "python",
   "pygments_lexer": "ipython3",
   "version": "3.9.7"
  }
 },
 "nbformat": 4,
 "nbformat_minor": 5
}
